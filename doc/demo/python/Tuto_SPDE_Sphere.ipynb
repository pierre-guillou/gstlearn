{
 "cells": [
  {
   "cell_type": "markdown",
   "id": "7ae577e5",
   "metadata": {},
   "source": [
    "# SPDE simulation on a sphere"
   ]
  },
  {
   "cell_type": "markdown",
   "id": "437c548c",
   "metadata": {},
   "source": [
    "<!-- SUMMARY: Simulations performed on a Sphere, treated in the SPDE formalism -->\n",
    "\n",
    "<!-- CATEGORY: SPDE -->"
   ]
  },
  {
   "cell_type": "code",
   "execution_count": null,
   "id": "413a31d8",
   "metadata": {},
   "outputs": [],
   "source": [
    "import gstlearn as gl\n",
    "import gstlearn.plot as gp\n",
    "import gstlearn.document as gdoc\n",
    "import gstlearn.plot3D as gop\n",
    "import numpy as np \n",
    "import matplotlib.pyplot as plt\n",
    "import plotly.graph_objects as go\n",
    "import IPython\n",
    "from IPython.display import Markdown\n",
    "gdoc.setNoScroll()"
   ]
  },
  {
   "cell_type": "code",
   "execution_count": null,
   "id": "3f9edec2",
   "metadata": {},
   "outputs": [],
   "source": [
    "Markdown(gdoc.loadDoc(\"SPDE_Sphere.md\"))"
   ]
  },
  {
   "cell_type": "code",
   "execution_count": null,
   "id": "e4cf0a58",
   "metadata": {},
   "outputs": [],
   "source": [
    "# Markov (if False, Matérn covariance will be used)\n",
    "Markov = True"
   ]
  },
  {
   "cell_type": "markdown",
   "id": "14c10f3c",
   "metadata": {},
   "source": [
    "### Parametrization"
   ]
  },
  {
   "cell_type": "code",
   "execution_count": null,
   "id": "277b680b",
   "metadata": {},
   "outputs": [],
   "source": [
    "#Sphere radius\n",
    "R = gl.EARTH_RADIUS\n",
    "gl.defineDefaultSpace(gl.ESpaceType.SN,param=R)\n",
    "\n",
    "#Scale parameter (for convenience, it is defined as the proportion of the radius)\n",
    "ratioRange = 0.2\n",
    "scale = R * ratioRange\n",
    "\n",
    "# sill \n",
    "sill = 2. \n",
    "\n",
    "# Smoothness parameter (for Matérn case)\n",
    "nu = 2\n",
    "\n",
    "# Markov coefficients (for Markov case)\n",
    "coeffs = [1,-1,.5]"
   ]
  },
  {
   "cell_type": "markdown",
   "id": "42d18da8",
   "metadata": {},
   "source": [
    "### Meshing"
   ]
  },
  {
   "cell_type": "code",
   "execution_count": null,
   "id": "2413f997",
   "metadata": {},
   "outputs": [],
   "source": [
    "mesh = gl.MeshSphericalExt()\n",
    "err = mesh.resetFromDb(None,None,triswitch = \"-r5\",verbose=False)"
   ]
  },
  {
   "cell_type": "markdown",
   "id": "82408b00",
   "metadata": {},
   "source": [
    "Sampling Db creation"
   ]
  },
  {
   "cell_type": "code",
   "execution_count": null,
   "id": "f0a12f94",
   "metadata": {},
   "outputs": [],
   "source": [
    "nsample = 4000\n",
    "#sub-sampling to reduce computational burden\n",
    "np.random.seed(123)\n",
    "ind = np.random.choice(mesh.getNApices(),size=nsample,replace=False)\n",
    "\n",
    "#Creation of the db\n",
    "X = mesh.getCoordinatesPerApex(0)\n",
    "Y = mesh.getCoordinatesPerApex(1)\n",
    "\n",
    "dbdat = gl.Db.create()\n",
    "dbdat[\"x\"] = np.array(X)[ind]\n",
    "dbdat[\"y\"] = np.array(Y)[ind]\n",
    "dbdat.setLocators([\"x\",\"y\"],gl.ELoc.X)\n",
    "\n",
    "varsize = np.ones(nsample)\n",
    "iuid = dbdat.addColumns(varsize, \"sizes\")\n",
    "varcolor = np.ones(nsample)\n",
    "iuid = dbdat.addColumns(varcolor, \"colors\")"
   ]
  },
  {
   "cell_type": "markdown",
   "id": "0ea5e112",
   "metadata": {},
   "source": [
    "## Covariance model\n",
    "\n",
    "The covariance model is Markov or Matérn."
   ]
  },
  {
   "cell_type": "code",
   "execution_count": null,
   "id": "5145765d",
   "metadata": {},
   "outputs": [],
   "source": [
    "if Markov : \n",
    "    model = gl.Model.createFromParam(type=gl.ECov.MARKOV,\n",
    "                                 range = scale,\n",
    "                                 sill = sill,\n",
    "                                 flagRange= False)\n",
    "    model.setMarkovCoeffs(0, coeffs)\n",
    "    \n",
    "else :\n",
    "\n",
    "    model = gl.Model.createFromParam(type=gl.ECov.MATERN,\n",
    "                                 range = scale,\n",
    "                                 sill = sill,\n",
    "                                 param=nu,\n",
    "                                 flagRange= False)"
   ]
  },
  {
   "cell_type": "markdown",
   "id": "033b1ab2",
   "metadata": {},
   "source": [
    "### Precision matrix"
   ]
  },
  {
   "cell_type": "code",
   "execution_count": null,
   "id": "7822425b",
   "metadata": {},
   "outputs": [],
   "source": [
    "Q = gl.PrecisionOp(mesh,model.getCovAniso(0))"
   ]
  },
  {
   "cell_type": "markdown",
   "id": "8562e984",
   "metadata": {},
   "source": [
    "### Simulation "
   ]
  },
  {
   "cell_type": "code",
   "execution_count": null,
   "id": "554b0b20",
   "metadata": {},
   "outputs": [],
   "source": [
    "result = np.array(Q.simulateOne())"
   ]
  },
  {
   "cell_type": "markdown",
   "id": "40df7370",
   "metadata": {},
   "source": [
    "### Display the realization\n",
    " "
   ]
  },
  {
   "cell_type": "code",
   "execution_count": null,
   "id": "c22fa257",
   "metadata": {
    "scrolled": true
   },
   "outputs": [],
   "source": [
    "surface = gop.SurfaceOnMesh(mesh, result,opacity=1)\n",
    "fig = go.Figure(data=[ surface ])\n",
    "fig.update_scenes(xaxis_visible=False, yaxis_visible=False,zaxis_visible=False )\n",
    "f = fig.show()"
   ]
  },
  {
   "cell_type": "markdown",
   "id": "12321538",
   "metadata": {},
   "source": [
    "### Compute covariance (of discretized solution)\n",
    "\n",
    "We use the fact that $\\Sigma = Q^{-1}$ and solve $Qx = e_j$ for an arbitrary index $j$."
   ]
  },
  {
   "cell_type": "markdown",
   "id": "4bdc154f",
   "metadata": {},
   "source": [
    "**Get the distances**"
   ]
  },
  {
   "cell_type": "code",
   "execution_count": null,
   "id": "3e1290f9",
   "metadata": {},
   "outputs": [],
   "source": [
    "ind0 = 12\n",
    "distances = np.array(mesh.getDistances(ind0))"
   ]
  },
  {
   "cell_type": "markdown",
   "id": "f2f6333a",
   "metadata": {},
   "source": [
    "**Compute the covariances**"
   ]
  },
  {
   "cell_type": "code",
   "execution_count": null,
   "id": "2f955bdc",
   "metadata": {},
   "outputs": [],
   "source": [
    "covDiscr = np.array(Q.computeCov(ind0))"
   ]
  },
  {
   "cell_type": "markdown",
   "id": "faa2cb8c",
   "metadata": {},
   "source": [
    "**Sort for the plot**"
   ]
  },
  {
   "cell_type": "code",
   "execution_count": null,
   "id": "c8013678",
   "metadata": {},
   "outputs": [],
   "source": [
    "covDiscrClose = covDiscr[np.argsort(distances)]\n",
    "deltaLong =  np.sort(distances)\n",
    "print(f\"Discretized Covariance = {round(covDiscrClose[0],4)}\")"
   ]
  },
  {
   "cell_type": "markdown",
   "id": "c6b591fc",
   "metadata": {},
   "source": [
    "**Display the result**"
   ]
  },
  {
   "cell_type": "code",
   "execution_count": null,
   "id": "f3873706",
   "metadata": {},
   "outputs": [],
   "source": [
    "plt.plot(deltaLong,covDiscrClose,\"--\",label = \"Discretized covariance\")\n",
    "ax = plt.legend()\n",
    "print(f\"Discretized variance = {round(covDiscrClose[0],4)}\")"
   ]
  },
  {
   "cell_type": "markdown",
   "id": "59310da6",
   "metadata": {},
   "source": [
    "### Variogram of the realization\n",
    "\n",
    "The empirical variogram is computed by using the great-circle distance."
   ]
  },
  {
   "cell_type": "code",
   "execution_count": null,
   "id": "f37a0ed7",
   "metadata": {},
   "outputs": [],
   "source": [
    "nlag = 50 # number of discretization points\n",
    "dlag = 0.04 # lag with respect to the unit sphere (it will be multiplied\n",
    "# by R in the creation of the VarioParam.\n",
    "\n",
    "dbdat[\"simu\"] = np.array(result)[ind]\n",
    "dbdat.setLocators([\"simu\"],gl.ELoc.Z)\n",
    "\n",
    "#Variogram \n",
    "\n",
    "vp = gl.VarioParam.createOmniDirection(nlag=nlag,dlag=dlag * R)\n",
    "vario = gl.Vario.create(vp)\n",
    "ax = vario.compute(dbdat,gl.ECalcVario.VARIOGRAM)\n",
    "#vario.display()"
   ]
  },
  {
   "cell_type": "code",
   "execution_count": null,
   "id": "a4e0d406",
   "metadata": {},
   "outputs": [],
   "source": [
    "res = gp.plot(vario, label = \"Empirical Variogram\", flagLegend=True)"
   ]
  },
  {
   "cell_type": "markdown",
   "id": "fa1a4d43",
   "metadata": {},
   "source": [
    "### Theoretical covariance function"
   ]
  },
  {
   "cell_type": "code",
   "execution_count": null,
   "id": "397f3e2b",
   "metadata": {},
   "outputs": [],
   "source": [
    "Markdown(gdoc.loadDoc(\"Covariance_Sphere.md\"))"
   ]
  },
  {
   "cell_type": "markdown",
   "id": "dbfd5d78",
   "metadata": {},
   "source": [
    "### Evaluation "
   ]
  },
  {
   "cell_type": "code",
   "execution_count": null,
   "id": "12c46182",
   "metadata": {},
   "outputs": [],
   "source": [
    "ndisc = 100 # number of discretization steps for the covariance \n",
    "N = 20 # size of the decomposition\n",
    "\n",
    "h = np.linspace(0,np.max(deltaLong),ndisc)\n",
    "a = model.getCovAniso(0)\n",
    "uu = np.array([a.evalCovOnSphere(i,N) for i in h]) # modif dR\n",
    "\n",
    "gp.plot(vario, label = \"Empirical Variogram\", flagLegend=True)\n",
    "plt.plot(h, sill - uu,label = \"Theoretical Variogram\")\n",
    "plt.plot(deltaLong,covDiscrClose[0] - covDiscrClose,\"--\",label = \"Discretized model\")\n",
    "plt.show()"
   ]
  },
  {
   "cell_type": "markdown",
   "id": "66a52ade",
   "metadata": {},
   "source": [
    "There is a slight difference between the theoretical variogram and the one obtained from the SPDE discretization due to a numerical error on the variance introduced by the discretization. The comparison of the covariance shows that this numerical error is rather small :"
   ]
  },
  {
   "cell_type": "code",
   "execution_count": null,
   "id": "55cb6ee9",
   "metadata": {
    "scrolled": true
   },
   "outputs": [],
   "source": [
    "h = np.linspace(0,np.max(deltaLong),ndisc)\n",
    "vario = gl.Vario.create(vp)\n",
    "\n",
    "ax = vario.compute(dbdat,gl.ECalcVario.COVARIANCE)\n",
    "#ax = gp.variogram(vario,label = \"Empirical Covariance\")\n",
    "ax = plt.plot(h, uu, label = \"Theoretical Covariance\")\n",
    "plt.plot(deltaLong,covDiscrClose,\"--\",label = \"Discretized model\")\n",
    "ax = plt.legend()\n",
    "plt.show()\n",
    "\n",
    "print(f\"Theoretical variance = {round(uu[0],4)}\")"
   ]
  },
  {
   "cell_type": "markdown",
   "id": "a17b3060",
   "metadata": {},
   "source": [
    "## Kriging"
   ]
  },
  {
   "cell_type": "markdown",
   "id": "65db7792",
   "metadata": {},
   "source": [
    "Plotting the mesh and the data"
   ]
  },
  {
   "cell_type": "code",
   "execution_count": null,
   "id": "44a81e33",
   "metadata": {},
   "outputs": [],
   "source": [
    "dbdat"
   ]
  },
  {
   "cell_type": "code",
   "execution_count": null,
   "id": "1ba968a5-dee9-4219-8fb0-ddbd6d53f82c",
   "metadata": {},
   "outputs": [],
   "source": [
    "mesh = gl.MeshSphericalExt()\n",
    "err = mesh.resetFromDb(None,None,triswitch = \"-r2\",verbose=False)\n",
    "\n",
    "Aproj = gl.ProjMatrix(dbdat, mesh)\n",
    "#Aproj.dumpVerticesUsed(30) # Dump the weights for the first samples"
   ]
  },
  {
   "cell_type": "code",
   "execution_count": null,
   "id": "6ac601d4-7419-49c4-8362-15767e2759c6",
   "metadata": {},
   "outputs": [],
   "source": [
    "vec = Aproj.toTL().T @ dbdat[\"simu\"] "
   ]
  },
  {
   "cell_type": "code",
   "execution_count": null,
   "id": "7f74ba7c-db25-4418-83ed-d5d9e1740629",
   "metadata": {},
   "outputs": [],
   "source": [
    "np.sum(np.isnan(dbdat[\"simu\"]))"
   ]
  },
  {
   "cell_type": "code",
   "execution_count": null,
   "id": "6b86fb29-b5d3-4993-aa5a-ab03e459bdf6",
   "metadata": {},
   "outputs": [],
   "source": [
    "np.sum(np.isnan(vec))"
   ]
  },
  {
   "cell_type": "code",
   "execution_count": null,
   "id": "fc5aea8e-5993-47c3-867e-3bece6ecf507",
   "metadata": {},
   "outputs": [],
   "source": [
    "surface = gop.SurfaceOnMesh(mesh, np.isnan(vec),opacity=1)\n",
    "fig = go.Figure(data=[ surface ])\n",
    "fig.update_scenes(xaxis_visible=False, yaxis_visible=False,zaxis_visible=False )\n",
    "f = fig.show()"
   ]
  },
  {
   "cell_type": "code",
   "execution_count": null,
   "id": "ad97ea37",
   "metadata": {},
   "outputs": [],
   "source": [
    "mesh = gl.MeshSphericalExt()\n",
    "err = mesh.resetFromDb(None,None,triswitch = \"-r2\",verbose=False)\n",
    "\n",
    "point = gop.PointDb(dbdat, size=1, nameColor = \"simu\", fromLongLat=True)\n",
    "blank = gop.SurfaceOnMesh(mesh, opacity=1)\n",
    "meshing = gop.Meshing(mesh)\n",
    "\n",
    "fig = go.Figure(data = [blank, meshing, point])\n",
    "fig.update_scenes(xaxis_visible=False, yaxis_visible=False, zaxis_visible=False )\n",
    "f = fig.show()"
   ]
  },
  {
   "cell_type": "code",
   "execution_count": null,
   "id": "3a2e8c18",
   "metadata": {},
   "outputs": [],
   "source": [
    "ball = gl.Ball(mesh);\n",
    "ball.display();"
   ]
  },
  {
   "cell_type": "markdown",
   "id": "6e573152",
   "metadata": {},
   "source": [
    "Highlight One sample and check the closest meshes"
   ]
  },
  {
   "cell_type": "code",
   "execution_count": null,
   "id": "6f8e0bd3",
   "metadata": {
    "scrolled": true
   },
   "outputs": [],
   "source": [
    "point = gop.PointDb(dbdat, size=1, nameColor = \"simu\", fromLongLat=True)\n",
    "blank = gop.SurfaceOnMesh(mesh, opacity=1)\n",
    "meshing = gop.Meshing(mesh)\n",
    "\n",
    "fig = go.Figure(data = [blank, meshing, point])\n",
    "fig.update_scenes(xaxis_visible=False, yaxis_visible=False, zaxis_visible=False )\n",
    "f = fig.show()"
   ]
  },
  {
   "cell_type": "code",
   "execution_count": null,
   "id": "07855915",
   "metadata": {},
   "outputs": [],
   "source": [
    "def highlight(sample = 0, verbose = False):\n",
    "    if verbose:\n",
    "        print(\"Rank of the Target sample =\", sample)\n",
    "        \n",
    "    target = dbdat.getSampleCoordinates(sample)\n",
    "    if verbose:\n",
    "        print(\"Target = \",target)\n",
    "        \n",
    "    mymesh = ball.queryClosest(target)\n",
    "    if verbose:\n",
    "        print(\"Rank of the Target Mesh = \", mymesh)\n",
    "\n",
    "    veclon = mesh.getCoordinatesPerMesh(mymesh, 0)\n",
    "    veclat = mesh.getCoordinatesPerMesh(mymesh, 1)\n",
    "    if verbose:\n",
    "        print(\"Longitude = \", veclon)\n",
    "        print(\"Latitude  = \", veclat)\n",
    "    \n",
    "    return veclon, veclat"
   ]
  },
  {
   "cell_type": "code",
   "execution_count": null,
   "id": "904d829f",
   "metadata": {},
   "outputs": [],
   "source": [
    "mysample = 5\n",
    "veclon, veclat = highlight(mysample)\n",
    "dbdat.setValue(\"sizes\", mysample, 12)\n",
    "dbdat.setValue(\"colors\", mysample, 1)\n",
    "point   = gop.PointDb(dbdat, nameSize = \"sizes\", nameColor = \"colors\", fromLongLat=True)\n",
    "blank   = gop.SurfaceOnMesh(mesh, opacity=1,)\n",
    "meshing = gop.Meshing(mesh)\n",
    "scatter = gop.ScatterOnSphere(veclon, veclat, mode=\"markers\", m_color='black', m_size=2)\n",
    "\n",
    "fig = go.Figure(data = [blank, point, meshing, scatter])\n",
    "fig.update_scenes(xaxis_visible=False, yaxis_visible=False, zaxis_visible=False )\n",
    "f = fig.show()\n",
    "\n",
    "dbdat.setValue(\"sizes\", mysample, 1)\n",
    "dbdat.setValue(\"colors\", mysample, 1)"
   ]
  },
  {
   "cell_type": "code",
   "execution_count": null,
   "id": "f001f648",
   "metadata": {
    "scrolled": true
   },
   "outputs": [],
   "source": [
    "Aproj = gl.ProjMatrix(dbdat, mesh)\n",
    "Aproj.dumpVerticesUsed(30) # Dump the weights for the first samples"
   ]
  },
  {
   "cell_type": "code",
   "execution_count": null,
   "id": "b41bf28c-cca5-4507-a031-42817526bec0",
   "metadata": {},
   "outputs": [],
   "source": []
  }
 ],
 "metadata": {
  "kernelspec": {
   "display_name": "Python 3 (ipykernel)",
   "language": "python",
   "name": "python3"
  },
  "language_info": {
   "codemirror_mode": {
    "name": "ipython",
    "version": 3
   },
   "file_extension": ".py",
   "mimetype": "text/x-python",
   "name": "python",
   "nbconvert_exporter": "python",
   "pygments_lexer": "ipython3",
   "version": "3.10.5"
  },
  "toc": {
   "base_numbering": 1,
   "nav_menu": {},
   "number_sections": true,
   "sideBar": true,
   "skip_h1_title": false,
   "title_cell": "Table of Contents",
   "title_sidebar": "Contents",
   "toc_cell": false,
   "toc_position": {},
   "toc_section_display": true,
   "toc_window_display": false
  }
 },
 "nbformat": 4,
 "nbformat_minor": 5
}
