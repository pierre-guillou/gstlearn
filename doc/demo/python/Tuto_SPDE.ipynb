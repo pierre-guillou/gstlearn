{
 "cells": [
  {
   "cell_type": "markdown",
   "id": "17a695d4",
   "metadata": {},
   "source": [
    "# Stochastic Partial Derivative Equations"
   ]
  },
  {
   "cell_type": "markdown",
   "id": "4d2cfe64",
   "metadata": {},
   "source": [
    "<!-- SUMMARY: Estimation and Simulations performed in the framework of SPDE -->\n",
    "\n",
    "<!-- CATEGORY: SPDE -->"
   ]
  },
  {
   "cell_type": "markdown",
   "id": "ca84ed42",
   "metadata": {},
   "source": [
    "In this tutorial, we show how to use the SPDE. We compare different calculations obtained through gstlearn API interfaces, either utilizing Cholesky decomposition or Matrix-free calculations."
   ]
  },
  {
   "cell_type": "code",
   "execution_count": null,
   "id": "c97c2d16",
   "metadata": {},
   "outputs": [],
   "source": [
    "import gstlearn as gl\n",
    "import gstlearn.plot as gp\n",
    "import gstlearn.document as gdoc\n",
    "import numpy as np\n",
    "import matplotlib.pyplot as plt\n",
    "\n",
    "from sksparse.cholmod import cholesky\n",
    "import scipy as sc\n",
    "from scipy.sparse import *\n",
    "from scipy.sparse.linalg import *\n",
    "import numpy as np\n",
    "\n",
    "gdoc.setNoScroll()"
   ]
  },
  {
   "cell_type": "markdown",
   "id": "9233b6cf",
   "metadata": {},
   "source": [
    "## Parameters"
   ]
  },
  {
   "cell_type": "code",
   "execution_count": null,
   "id": "fbbfc56f",
   "metadata": {},
   "outputs": [],
   "source": [
    "# Data\n",
    "np.random.seed(123)\n",
    "ndat = 1000\n",
    "\n",
    "# Model\n",
    "rangev = 0.2\n",
    "sill = 1.\n",
    "nugget = 0.1\n",
    "\n",
    "# Grid \n",
    "nx = [50,50]\n",
    "dx = [0.02,0.02]\n",
    "x0 = [0,0]\n",
    "\n",
    "#Grid meshing\n",
    "nxm = [75,75]\n",
    "dxm = [0.02,0.02]\n",
    "x0m = [-0.25,-0.25]\n",
    "\n",
    "dbfmt = gl.DbStringFormat.createFromFlags(flag_stats=True, names=[\"spde*\"])"
   ]
  },
  {
   "cell_type": "markdown",
   "id": "4c097809",
   "metadata": {},
   "source": [
    "### Grid and Meshing"
   ]
  },
  {
   "cell_type": "code",
   "execution_count": null,
   "id": "42336100",
   "metadata": {},
   "outputs": [],
   "source": [
    "grid = gl.DbGrid.create(nx,dx,x0)\n",
    "gridExt = gl.DbGrid.create(nxm,dxm,x0m)\n",
    "mesh = gl.MeshETurbo(gridExt)"
   ]
  },
  {
   "cell_type": "markdown",
   "id": "7d34edee",
   "metadata": {},
   "source": [
    "### Model"
   ]
  },
  {
   "cell_type": "code",
   "execution_count": null,
   "id": "a797b73e",
   "metadata": {},
   "outputs": [],
   "source": [
    "model = gl.Model.createFromParam(gl.ECov.MATERN,param=1,range=rangev,sill=sill)\n",
    "model.addCovFromParam(gl.ECov.NUGGET,sill=nugget)\n",
    "model.setDriftIRF()"
   ]
  },
  {
   "cell_type": "code",
   "execution_count": null,
   "id": "824fd686",
   "metadata": {},
   "outputs": [],
   "source": [
    "model"
   ]
  },
  {
   "cell_type": "markdown",
   "id": "8ee82980",
   "metadata": {},
   "source": [
    "### Data"
   ]
  },
  {
   "cell_type": "code",
   "execution_count": null,
   "id": "e9ba497b",
   "metadata": {},
   "outputs": [],
   "source": [
    "dat = gl.Db.create()\n",
    "dat[\"x\"] = np.random.uniform(size=ndat)\n",
    "dat[\"y\"] = np.random.uniform(size=ndat)\n",
    "dat.setLocators([\"x\",\"y\"],gl.ELoc.X)"
   ]
  },
  {
   "cell_type": "markdown",
   "id": "5e82dfce",
   "metadata": {},
   "source": [
    "## SPDE non-conditional simulation"
   ]
  },
  {
   "cell_type": "markdown",
   "id": "76c09c62",
   "metadata": {},
   "source": [
    "### Grid query"
   ]
  },
  {
   "cell_type": "code",
   "execution_count": null,
   "id": "6811ad69",
   "metadata": {},
   "outputs": [],
   "source": [
    "gl.law_set_random_seed(131351)\n",
    "gl.simulateSPDE(None, grid, model)\n",
    "grid.display(dbfmt)"
   ]
  },
  {
   "cell_type": "code",
   "execution_count": null,
   "id": "76c417bb",
   "metadata": {},
   "outputs": [],
   "source": [
    "gp.init(figsize=[7,7],flagEqual=True)\n",
    "gp.raster(grid)\n",
    "gp.decoration(title=\"Non Conditional Simulation\")"
   ]
  },
  {
   "cell_type": "markdown",
   "id": "bd19591e",
   "metadata": {},
   "source": [
    "### Data query"
   ]
  },
  {
   "cell_type": "code",
   "execution_count": null,
   "id": "57e2c56a",
   "metadata": {},
   "outputs": [],
   "source": [
    "gl.law_set_random_seed(131351)\n",
    "gl.simulateSPDE(None, dat, model)\n",
    "dat.display(dbfmt)"
   ]
  },
  {
   "cell_type": "markdown",
   "id": "ee38a05c",
   "metadata": {},
   "source": [
    "## Kriging"
   ]
  },
  {
   "cell_type": "code",
   "execution_count": null,
   "id": "0c878184",
   "metadata": {},
   "outputs": [],
   "source": [
    "gl.krigingSPDE(dat, grid, model, useCholesky=True, namconv=gl.NamingConvention(\"KrigingSPDE-Chol\"))\n",
    "gl.krigingSPDE(dat, grid, model, useCholesky=False, namconv=gl.NamingConvention(\"KrigingSPDE-Free\"))\n",
    "grid.display(dbfmt)"
   ]
  },
  {
   "cell_type": "code",
   "execution_count": null,
   "id": "610e7332",
   "metadata": {},
   "outputs": [],
   "source": [
    "gp.init(figsize=[7,7],flagEqual=True)\n",
    "gp.raster(grid)\n",
    "gp.symbol(dat, c='black')\n",
    "gp.decoration(title=\"Estimation\")"
   ]
  },
  {
   "cell_type": "markdown",
   "id": "e5720944",
   "metadata": {},
   "source": [
    "## Likelihood"
   ]
  },
  {
   "cell_type": "markdown",
   "id": "2bae51b9",
   "metadata": {},
   "source": [
    "- Using the new API (we use the same 'mesh' as for the manual case to obtain the same results)."
   ]
  },
  {
   "cell_type": "code",
   "execution_count": null,
   "id": "984e1420",
   "metadata": {
    "scrolled": true
   },
   "outputs": [],
   "source": [
    "nMC = 100\n",
    "params = gl.SPDEParam.create(nMC=nMC)\n",
    "loglike = gl.logLikelihoodSPDE(dat, model, useCholesky=1, meshes=[mesh], params=params, verbose=False)\n",
    "print(f\"-> logLikelihood with cholesky=1 {round(loglike,4)}\")"
   ]
  },
  {
   "cell_type": "code",
   "execution_count": null,
   "id": "a0a87db5",
   "metadata": {},
   "outputs": [],
   "source": [
    "nMC = 100\n",
    "params = gl.SPDEParam.create(nMC=nMC)\n",
    "loglike = gl.logLikelihoodSPDE(dat, model, useCholesky=0, meshes=[mesh], params=params, verbose=False)\n",
    "print(f\"-> logLikelihood with cholesky=0 {round(loglike,4)}\")"
   ]
  }
 ],
 "metadata": {
  "kernelspec": {
   "display_name": "Python 3 (ipykernel)",
   "language": "python",
   "name": "python3"
  },
  "language_info": {
   "codemirror_mode": {
    "name": "ipython",
    "version": 3
   },
   "file_extension": ".py",
   "mimetype": "text/x-python",
   "name": "python",
   "nbconvert_exporter": "python",
   "pygments_lexer": "ipython3",
   "version": "3.10.5"
  },
  "toc": {
   "base_numbering": 1,
   "nav_menu": {},
   "number_sections": true,
   "sideBar": true,
   "skip_h1_title": true,
   "title_cell": "Table of Contents",
   "title_sidebar": "Contents",
   "toc_cell": false,
   "toc_position": {
    "height": "calc(100% - 180px)",
    "left": "10px",
    "top": "150px",
    "width": "302.6px"
   },
   "toc_section_display": true,
   "toc_window_display": false
  }
 },
 "nbformat": 4,
 "nbformat_minor": 5
}
