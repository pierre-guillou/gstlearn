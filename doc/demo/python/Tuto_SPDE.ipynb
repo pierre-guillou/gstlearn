{
 "cells": [
  {
   "cell_type": "markdown",
   "id": "191f0632",
   "metadata": {},
   "source": [
    "# Stochastic Partial Derivative Equations"
   ]
  },
  {
   "cell_type": "markdown",
   "id": "c27a1a65",
   "metadata": {},
   "source": [
    "<!-- SUMMARY: Estimation and Simulations performed in the framework of SPDE -->\n",
    "\n",
    "<!-- CATEGORY: SPDE -->"
   ]
  },
  {
   "cell_type": "markdown",
   "id": "970884c0",
   "metadata": {},
   "source": [
    "In this tutorial, we show how to use the SPDE. We compare some calculations performed *by hand* with the results obtained through gstlearn API interfaces. Note that we also consider (probably temporarily) the Old interface (instantiating the SPDE class and performing subsequent calculations within this class) and the new interface where individual functions are designed for Kriging, Simulating and calculating LogLikelihood."
   ]
  },
  {
   "cell_type": "code",
   "execution_count": null,
   "id": "8daba754",
   "metadata": {},
   "outputs": [],
   "source": [
    "import gstlearn as gl\n",
    "import gstlearn.plot as gp\n",
    "import gstlearn.document as gdoc\n",
    "import numpy as np\n",
    "import matplotlib.pyplot as plt\n",
    "\n",
    "from sksparse.cholmod import cholesky\n",
    "import scipy as sc\n",
    "from scipy.sparse import *\n",
    "from scipy.sparse.linalg import *\n",
    "import numpy as np\n",
    "\n",
    "gdoc.setNoScroll()"
   ]
  },
  {
   "cell_type": "markdown",
   "id": "42f19e61",
   "metadata": {},
   "source": [
    "## Parameters"
   ]
  },
  {
   "cell_type": "code",
   "execution_count": null,
   "id": "830c345d",
   "metadata": {},
   "outputs": [],
   "source": [
    "# Data\n",
    "np.random.seed(123)\n",
    "ndat = 1000\n",
    "\n",
    "# Model\n",
    "rangev = 0.2\n",
    "sill = 1.\n",
    "nugget = 0.1\n",
    "\n",
    "# Grid \n",
    "nx = [50,50]\n",
    "dx = [0.02,0.02]\n",
    "x0 = [0,0]\n",
    "\n",
    "#Grid meshing\n",
    "nxm = [75,75]\n",
    "dxm = [0.02,0.02]\n",
    "x0m = [-0.25,-0.25]\n",
    "\n",
    "figsize = [5,5]\n",
    "\n",
    "dbfmt = gl.DbStringFormat.createFromFlags(flag_stats=True, names=[\"*SPDE\"])"
   ]
  },
  {
   "cell_type": "markdown",
   "id": "bfdee54f",
   "metadata": {},
   "source": [
    "### Grid and Meshing"
   ]
  },
  {
   "cell_type": "markdown",
   "id": "9d4f5d76-2f66-4f2c-a713-e847ed08a8f1",
   "metadata": {},
   "source": [
    "The 'grid' object defines the grid where API calculations will be performed"
   ]
  },
  {
   "cell_type": "code",
   "execution_count": null,
   "id": "b352faf8",
   "metadata": {},
   "outputs": [],
   "source": [
    "grid = gl.DbGrid.create(nx,dx,x0)"
   ]
  },
  {
   "cell_type": "markdown",
   "id": "f09258d8-bb84-4bf3-8df8-2501efb77ac4",
   "metadata": {},
   "source": [
    "The 'gridExt' object is a dilated field which is used for manual calculation and to establish the Unique Mesh. The selection 'newSel' masks off the cells which are not covering 'grid'. The vector 'indSel' gives the indices of the active cells."
   ]
  },
  {
   "cell_type": "code",
   "execution_count": null,
   "id": "daf443c3-ca30-4fa5-b346-7ce204632ec0",
   "metadata": {},
   "outputs": [],
   "source": [
    "gridExt = gl.DbGrid.create(nxm,dxm,x0m)\n",
    "\n",
    "mesh = gl.MeshETurbo(gridExt)\n",
    "meshes = gl.VectorMeshes()\n",
    "meshes.push_back(mesh)\n",
    "gl.dumpMeshes(meshes)\n",
    "\n",
    "gridExt.addSelection((gridExt[\"x1\"]>0) & (gridExt[\"x2\"]>0) & (gridExt[\"x1\"]<1.) & (gridExt[\"x2\"]<1.))\n",
    "indSel = np.where(gridExt[\"NewSel\"])[0]"
   ]
  },
  {
   "cell_type": "markdown",
   "id": "f89df81e",
   "metadata": {},
   "source": [
    "### Model"
   ]
  },
  {
   "cell_type": "code",
   "execution_count": null,
   "id": "df5079ca",
   "metadata": {},
   "outputs": [],
   "source": [
    "model = gl.Model.createFromParam(gl.ECov.MATERN,param=1,range=rangev,sill=sill)\n",
    "model.addCovFromParam(gl.ECov.NUGGET,sill=nugget)\n",
    "model.setDriftIRF()"
   ]
  },
  {
   "cell_type": "markdown",
   "id": "9d611966",
   "metadata": {},
   "source": [
    "### Data"
   ]
  },
  {
   "cell_type": "code",
   "execution_count": null,
   "id": "55393bfa",
   "metadata": {},
   "outputs": [],
   "source": [
    "dat = gl.Db.create()\n",
    "dat[\"x\"] = np.random.uniform(size=ndat)\n",
    "dat[\"y\"] = np.random.uniform(size=ndat)\n",
    "dat.setLocators([\"x\",\"y\"],gl.ELoc.X)"
   ]
  },
  {
   "cell_type": "markdown",
   "id": "2bde4a54",
   "metadata": {},
   "source": [
    "## SPDE non-conditional simulation"
   ]
  },
  {
   "cell_type": "markdown",
   "id": "217a25a7-44f5-43f4-bf0f-5fe49de49d39",
   "metadata": {},
   "source": [
    "We perform a non-conditional simulation of the Model on the grid in order to get the graphic rendition of the corresponding texture."
   ]
  },
  {
   "cell_type": "markdown",
   "id": "4fcff370",
   "metadata": {},
   "source": [
    "### Performed on Grid"
   ]
  },
  {
   "cell_type": "code",
   "execution_count": null,
   "id": "fd7308b2",
   "metadata": {
    "scrolled": true
   },
   "outputs": [],
   "source": [
    "gl.law_set_random_seed(131351)\n",
    "gl.simulateSPDE(None, grid, model, 1, -1, meshes)\n",
    "grid.display(dbfmt)"
   ]
  },
  {
   "cell_type": "code",
   "execution_count": null,
   "id": "ec87d0db",
   "metadata": {},
   "outputs": [],
   "source": [
    "gp.init(figsize=figsize,flagEqual=True)\n",
    "gp.raster(grid)\n",
    "gp.decoration(title=\"Non Conditional Simulation\")"
   ]
  },
  {
   "cell_type": "markdown",
   "id": "5845163d",
   "metadata": {},
   "source": [
    "### Performed on Data"
   ]
  },
  {
   "cell_type": "markdown",
   "id": "1fea165a-da7d-4f1c-bd99-2f0175bfa792",
   "metadata": {},
   "source": [
    "We also perform a non conditional simulation on the Data location, which will serve for future conditioning information (for Kriging and Conditional Simulations)."
   ]
  },
  {
   "cell_type": "code",
   "execution_count": null,
   "id": "ea5799e0",
   "metadata": {},
   "outputs": [],
   "source": [
    "gl.law_set_random_seed(131351)\n",
    "gl.simulateSPDE(None, dat, model, 1, -1, meshes)\n",
    "dat.display(dbfmt)"
   ]
  },
  {
   "cell_type": "markdown",
   "id": "6c86d5e4-454f-487d-820e-6a1bfcff6a55",
   "metadata": {},
   "source": [
    "## Kriging"
   ]
  },
  {
   "cell_type": "markdown",
   "id": "01c1a0ff-7c5d-47c9-a9cb-6c219ebe81bf",
   "metadata": {},
   "source": [
    "We perform an estimation by Kriging in the SPDE framework:\n",
    "\n",
    "- either using the Matrix Free version"
   ]
  },
  {
   "cell_type": "code",
   "execution_count": null,
   "id": "77067d6d-1c48-4c20-9b8c-fa91cbed6909",
   "metadata": {},
   "outputs": [],
   "source": [
    "err = gl.krigingSPDE(dat, gridExt, model, useCholesky=0, meshesK = meshes, namconv=gl.NamingConvention(\"KrigingSPDE-Free\"), verbose=False)"
   ]
  },
  {
   "cell_type": "markdown",
   "id": "08b8e385-f05e-4143-a2f6-301bf14de392",
   "metadata": {},
   "source": [
    "- or using the Matrix version and the Cholesky decomposition. This is the version that will serve for comparion with the manual demonstration of the methodology further. "
   ]
  },
  {
   "cell_type": "code",
   "execution_count": null,
   "id": "7788da4b",
   "metadata": {},
   "outputs": [],
   "source": [
    "err = gl.krigingSPDE(dat, gridExt, model, useCholesky=1, meshesK = meshes, namconv=gl.NamingConvention(\"KrigingSPDE-Chol\"),verbose=False)"
   ]
  },
  {
   "cell_type": "markdown",
   "id": "c79f49a2-baa5-4bb8-8896-827317647b15",
   "metadata": {},
   "source": [
    "Comparison between the two ways to perform SPDE internal algorithm"
   ]
  },
  {
   "cell_type": "code",
   "execution_count": null,
   "id": "a2358bad-a47d-4499-b717-ae11811a9cb8",
   "metadata": {
    "scrolled": true
   },
   "outputs": [],
   "source": [
    "ax = plt.scatter(gridExt[\"*Chol.*estim\"],gridExt[\"*Free.*estim\"],s=1)\n",
    "p = plt.plot([-3,3],[-3,3],c=\"r\")"
   ]
  },
  {
   "cell_type": "code",
   "execution_count": null,
   "id": "215acc12",
   "metadata": {
    "scrolled": true
   },
   "outputs": [],
   "source": [
    "gp.init(figsize=figsize,flagEqual=True)\n",
    "gp.raster(gridExt)\n",
    "gp.symbol(dat, c='black')\n",
    "gp.decoration(title=\"Estimation\")"
   ]
  },
  {
   "cell_type": "code",
   "execution_count": null,
   "id": "77526439-ab9a-460b-a3f5-232528ef5823",
   "metadata": {},
   "outputs": [],
   "source": [
    "gridExt.display(dbfmt)"
   ]
  },
  {
   "cell_type": "markdown",
   "id": "be3f7f71",
   "metadata": {},
   "source": [
    "## Manually"
   ]
  },
  {
   "cell_type": "markdown",
   "id": "1cd14e5a-aada-488b-9d7e-092ca57d892f",
   "metadata": {},
   "source": [
    "All calculations are performed on 'gridExt'... but the comparison with the API is performed on its restriction to 'grid'."
   ]
  },
  {
   "cell_type": "code",
   "execution_count": null,
   "id": "14831538-7b6b-4705-a9ec-24bd3fb2e390",
   "metadata": {},
   "outputs": [],
   "source": [
    "spdeRes = gl.SPDE(dat, model, True, False, 1)\n",
    "spdeRes.setMeshes(True, meshes)\n",
    "err = spdeRes.makeReady(True)"
   ]
  },
  {
   "cell_type": "markdown",
   "id": "0d83c838-951a-44eb-8730-69ef42955f2d",
   "metadata": {},
   "source": [
    "### Projection Matrix: mesh to grid"
   ]
  },
  {
   "cell_type": "code",
   "execution_count": null,
   "id": "ed6393f4",
   "metadata": {},
   "outputs": [],
   "source": [
    "Aprojg = gl.ProjMatrix(gridExt, mesh).toTL()"
   ]
  },
  {
   "cell_type": "markdown",
   "id": "1943223f",
   "metadata": {},
   "source": [
    "### Simulation"
   ]
  },
  {
   "cell_type": "code",
   "execution_count": null,
   "id": "19256c39",
   "metadata": {},
   "outputs": [],
   "source": [
    "Q = spdeRes.getQ().toTL()\n",
    "cholQ = cholesky(Q)"
   ]
  },
  {
   "cell_type": "code",
   "execution_count": null,
   "id": "ce170689",
   "metadata": {},
   "outputs": [],
   "source": [
    "u = np.random.normal(size = Q.shape[0])\n",
    "gridExt[\"ManualSimu\"] = cholQ.apply_Pt(cholQ.solve_Lt(1./np.sqrt(cholQ.D())*u))\n",
    "\n",
    "gp.init(figsize=figsize,flagEqual=True)\n",
    "gp.raster(gridExt, \"ManualSimu\", useSel=True)\n",
    "gp.decoration(title=\"Simulation (Manual)\")\n",
    "print(f\"Variance = {round(np.var(gridExt['ManualSimu'][np.where(gridExt['NewSel']==1)]),4)}\")"
   ]
  },
  {
   "cell_type": "markdown",
   "id": "3ac561ad",
   "metadata": {},
   "source": [
    "### Kriging"
   ]
  },
  {
   "cell_type": "code",
   "execution_count": null,
   "id": "4954fb65",
   "metadata": {},
   "outputs": [],
   "source": [
    "Aproj = spdeRes.getProj().toTL()\n",
    "invnoise = spdeRes.getInvNoise().toTL()\n",
    "\n",
    "Qop = Q + Aproj.T @ invnoise @ Aproj\n",
    "cholQop =  cholesky(Qop)\n",
    "\n",
    "kriging = cholQop.solve_A(Aproj.T @ (invnoise @ dat[\"SimuSPDE\"]))\n",
    "gridExt[\"ManualKrig\"] = kriging"
   ]
  },
  {
   "cell_type": "code",
   "execution_count": null,
   "id": "a2b39dee-8104-4169-ac2d-5d8d508bcaa8",
   "metadata": {},
   "outputs": [],
   "source": [
    "ax = plt.scatter(gridExt[\"ManualKrig\"][indSel],gridExt[\"*Chol.*estim\"][indSel],s=1)\n",
    "p = plt.plot([-3,3],[-3,3],c=\"r\")"
   ]
  },
  {
   "cell_type": "markdown",
   "id": "0c0d7927",
   "metadata": {},
   "source": [
    "## Likelihood\n",
    "\n",
    "Manually with Cholesky vs. matrix-free approach with SPDE api."
   ]
  },
  {
   "cell_type": "code",
   "execution_count": null,
   "id": "e98bdb35",
   "metadata": {},
   "outputs": [],
   "source": [
    "def solveMat(cholQop,x):\n",
    "    return cholQop.solve_A(x)\n",
    "\n",
    "def invSigma(invnoise,Aproj,cholQop,x):\n",
    "#    return 1./sigma2 * (x - 1./sigma2 * Aproj @ solveMat(cholQop, Aproj.T @ x))\n",
    "    return invnoise @ x - invnoise @ Aproj @ solveMat(cholQop, Aproj.T @ (invnoise @ x)) \n",
    "\n",
    "def detQ(cholQ):\n",
    "    return cholQ.logdet()\n",
    "\n",
    "x = dat[\"SimuSPDE\"]\n",
    "ones = np.ones_like(x)\n",
    "invSigmaOnes = invSigma(invnoise,Aproj,cholQop,ones)\n",
    "mu  = np.sum(x * invSigmaOnes) / np.sum(ones * invSigmaOnes) \n",
    "print(f\"Value for MU = {round(mu,4)}\")"
   ]
  },
  {
   "cell_type": "code",
   "execution_count": null,
   "id": "0915148f-dd55-40bc-9e4e-c6ca736a9039",
   "metadata": {},
   "outputs": [],
   "source": [
    "spdeChol = gl.SPDE(dat, model, True, False, 1)\n",
    "spdeChol.setMeshes(True, meshes)\n",
    "err = spdeChol.makeReady(True)\n",
    "invnoise = spdeChol.getInvNoise().toTL()\n",
    "\n",
    "Q = spdeChol.getQ().toTL()\n",
    "cholQ = cholesky(Q)\n",
    "\n",
    "Aproj = spdeChol.getProj().toTL()\n",
    "\n",
    "Qop = Q + Aproj.T @ invnoise @ Aproj\n",
    "cholQop =  cholesky(Qop)"
   ]
  },
  {
   "cell_type": "code",
   "execution_count": null,
   "id": "509f747e",
   "metadata": {},
   "outputs": [],
   "source": [
    "a_quad = np.sum((x-mu)*invSigma(invnoise,Aproj,cholQop,x-mu))\n",
    "b_quad = spdeChol.getSPDEOp().computeQuadratic(x - mu)\n",
    "print(f\"Quadratic (manual) = {round(a_quad,4)}\")\n",
    "print(f\"Quadratic (spde)   = {round(b_quad,4)}\")\n",
    "print(f\"-> Relative difference quadratic = {round(100*(b_quad - a_quad) / a_quad,2)}%\")"
   ]
  },
  {
   "cell_type": "code",
   "execution_count": null,
   "id": "9d63b700",
   "metadata": {
    "scrolled": true
   },
   "outputs": [],
   "source": [
    "a_op = detQ(cholQop)\n",
    "b_op = spdeChol.getSPDEOp().computeLogDetOp()\n",
    "print(f\"log_det_op (manual) = {round(a_op,4)}\")\n",
    "print(f\"log_det_op (spde)   = {round(b_op,4)}\")\n",
    "print(f\"-> Relative difference = {round(100*(b_op-a_op)/a_op, 2)}%\")"
   ]
  },
  {
   "cell_type": "code",
   "execution_count": null,
   "id": "4c3a428c",
   "metadata": {
    "scrolled": true
   },
   "outputs": [],
   "source": [
    "a_one = detQ(cholQ)\n",
    "b_one = spdeChol.getPrecisionKrig().computeLogDet()\n",
    "print(f\"log_det_Q (manual) = {round(a_one,4)}\")\n",
    "print(f\"log_det_Q (spde)   = {round(b_one,4)}\")\n",
    "print(f\"-> Relative difference = {round(100*(b_one-a_one)/a_one,2)}%\")"
   ]
  },
  {
   "cell_type": "markdown",
   "id": "e9179a48",
   "metadata": {},
   "source": [
    "### Comparing the different outputs"
   ]
  },
  {
   "cell_type": "markdown",
   "id": "64876e25",
   "metadata": {},
   "source": [
    "- Manual calculation"
   ]
  },
  {
   "cell_type": "code",
   "execution_count": null,
   "id": "cdcf5d7f",
   "metadata": {},
   "outputs": [],
   "source": [
    "logdetnoise = len(x) * np.log(nugget)\n",
    "logdet = a_op - a_one + logdetnoise\n",
    "a = -0.5 * (a_quad + logdet + len(x) * np.log(2. * np.pi))\n",
    "print(\"Likelihood calculation (manual):\")\n",
    "print(f\"log_det_op      = {round(a_op,4)}\")\n",
    "print(f\"log_det_Q       = {round(a_one,4)}\")\n",
    "print(f\"log_det_Noise   = {round(logdetnoise,4)}\")\n",
    "print(f\"log_determinant = {round(logdet,4)}\")\n",
    "print(f\"Quadratic term  = {round(a_quad,4)}\")\n",
    "print(f\"-> Likelihood (manual) = {round(a,4)}\")"
   ]
  },
  {
   "cell_type": "markdown",
   "id": "89d532a6",
   "metadata": {},
   "source": [
    "- Using the new API (we use the same 'mesh' as for the manual case to obtain the same results)."
   ]
  },
  {
   "cell_type": "code",
   "execution_count": null,
   "id": "9c8b66e2",
   "metadata": {
    "scrolled": true
   },
   "outputs": [],
   "source": [
    "useCholesky = 1\n",
    "meshes = gl.VectorMeshes()\n",
    "meshes.push_back(spdeChol.getMeshesK()[0])\n",
    "b2 = gl.logLikelihoodSPDE(dat,model,useCholesky=useCholesky, meshes=meshes, params=params, verbose=True)\n",
    "print(f\"-> likelihood (api) cholesky=1 {round(b2,4)}\")"
   ]
  },
  {
   "cell_type": "code",
   "execution_count": null,
   "id": "8bbc3718-1874-4296-89c0-b2ad43879bc2",
   "metadata": {},
   "outputs": [],
   "source": [
    "useCholesky = 0\n",
    "\n",
    "spdeMF = gl.SPDE(dat, model, True, False, 0)\n",
    "spdeMF.setMeshes(True, meshes)\n",
    "err = spdeMF.makeReady(True)"
   ]
  },
  {
   "cell_type": "code",
   "execution_count": null,
   "id": "eb46f9ac",
   "metadata": {},
   "outputs": [],
   "source": [
    "useCholesky = 0\n",
    "nMC = 100\n",
    "params = gl.SPDEParam.create(nMC=nMC)\n",
    "b2 = gl.logLikelihoodSPDE(dat,model,useCholesky=useCholesky, meshes=meshes, params=params, verbose=True)\n",
    "print(f\"-> likelihood by New API with cholesky=0 {round(b2,4)}\")"
   ]
  }
 ],
 "metadata": {
  "kernelspec": {
   "display_name": "Python 3 (ipykernel)",
   "language": "python",
   "name": "python3"
  },
  "language_info": {
   "codemirror_mode": {
    "name": "ipython",
    "version": 3
   },
   "file_extension": ".py",
   "mimetype": "text/x-python",
   "name": "python",
   "nbconvert_exporter": "python",
   "pygments_lexer": "ipython3",
   "version": "3.10.5"
  },
  "toc": {
   "base_numbering": 1,
   "nav_menu": {},
   "number_sections": true,
   "sideBar": true,
   "skip_h1_title": true,
   "title_cell": "Table of Contents",
   "title_sidebar": "Contents",
   "toc_cell": false,
   "toc_position": {
    "height": "calc(100% - 180px)",
    "left": "10px",
    "top": "150px",
    "width": "302.6px"
   },
   "toc_section_display": true,
   "toc_window_display": false
  }
 },
 "nbformat": 4,
 "nbformat_minor": 5
}
